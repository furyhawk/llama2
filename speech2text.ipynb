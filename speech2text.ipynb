{
 "cells": [
  {
   "cell_type": "code",
   "execution_count": 4,
   "metadata": {},
   "outputs": [],
   "source": [
    "import whisper\n",
    "import pyaudio\n",
    "\n"
   ]
  },
  {
   "cell_type": "code",
   "execution_count": 6,
   "metadata": {},
   "outputs": [],
   "source": [
    "class AudioRecorder:\n",
    "    def __init__(\n",
    "        self,\n",
    "        chunk=1024,\n",
    "        sample_format=pyaudio.paInt16,\n",
    "        channels=1,\n",
    "        fs=44100,\n",
    "        filename=\"output.wav\",\n",
    "    ):\n",
    "        self.chunk = chunk\n",
    "        self.sample_format = sample_format\n",
    "        self.channels = channels\n",
    "        self.fs = fs\n",
    "        self.filename = filename\n",
    "        self.frames = []\n",
    "        self.recording = False\n",
    "        self.model = whisper.load_model(\"base\")\n",
    "        self.language = \"English\"\n",
    "        self.p = pyaudio.PyAudio()\n",
    "\n",
    "    def toggle_recording(self):\n",
    "        self.recording = not self.recording\n",
    "        if self.recording:\n",
    "            print(\"Recording\")\n",
    "            self.frames = []  # Clear previous recording frames\n",
    "            threading.Thread(target=self.record).start()\n",
    "        else:\n",
    "            print(\"Stopped recording\")\n",
    "\n",
    "    def record(self):\n",
    "        stream = self.p.open(\n",
    "            format=self.sample_format,\n",
    "            channels=self.channels,\n",
    "            rate=self.fs,\n",
    "            frames_per_buffer=self.chunk,\n",
    "            input=True,\n",
    "        )\n",
    "        while self.recording:\n",
    "            data = stream.read(self.chunk)\n",
    "            self.frames.append(data)\n",
    "        stream.stop_stream()\n",
    "        stream.close()\n",
    "        self.save_audio()\n",
    "\n",
    "    def transcribe_recording(self):\n",
    "        options = {\"language\": self.language, \"task\": \"transcribe\"}\n",
    "        result = self.model.transcribe(self.filename, **options)\n",
    "        return result[\"text\"]\n",
    "\n",
    "    def save_audio(self):\n",
    "        with wave.open(self.filename, \"wb\") as wf:\n",
    "            wf.setnchannels(self.channels)\n",
    "            wf.setsampwidth(self.p.get_sample_size(self.sample_format))\n",
    "            wf.setframerate(self.fs)\n",
    "            wf.writeframes(b\"\".join(self.frames))\n",
    "\n",
    "        transcription = self.transcribe_recording()\n",
    "        print(f\"Transcription: {transcription}\")\n",
    "        print(transcription)\n",
    "\n",
    "    def set_hotkey(self, hotkey):\n",
    "        keyboard.add_hotkey(hotkey, self.toggle_recording, suppress=True)\n",
    "        keyboard.wait(\"esc\")\n",
    "\n",
    "    def set_language(self, language):\n",
    "        self.language = language\n",
    "        print(\"The language is currently set to: \", self.language)"
   ]
  },
  {
   "cell_type": "code",
   "execution_count": null,
   "metadata": {},
   "outputs": [],
   "source": []
  },
  {
   "cell_type": "code",
   "execution_count": 1,
   "metadata": {},
   "outputs": [
    {
     "ename": "ModuleNotFoundError",
     "evalue": "No module named 'sounddevice'",
     "output_type": "error",
     "traceback": [
      "\u001b[0;31m---------------------------------------------------------------------------\u001b[0m",
      "\u001b[0;31mModuleNotFoundError\u001b[0m                       Traceback (most recent call last)",
      "\u001b[1;32m/Users/furyhawk/projects/llama2/speech2text.ipynb Cell 3\u001b[0m line \u001b[0;36m1\n\u001b[0;32m----> <a href='vscode-notebook-cell:/Users/furyhawk/projects/llama2/speech2text.ipynb#W2sZmlsZQ%3D%3D?line=0'>1</a>\u001b[0m \u001b[39mimport\u001b[39;00m \u001b[39msounddevice\u001b[39;00m \u001b[39mas\u001b[39;00m \u001b[39msd\u001b[39;00m\n\u001b[1;32m      <a href='vscode-notebook-cell:/Users/furyhawk/projects/llama2/speech2text.ipynb#W2sZmlsZQ%3D%3D?line=1'>2</a>\u001b[0m \u001b[39mimport\u001b[39;00m \u001b[39msoundfile\u001b[39;00m \u001b[39mas\u001b[39;00m \u001b[39msf\u001b[39;00m\n\u001b[1;32m      <a href='vscode-notebook-cell:/Users/furyhawk/projects/llama2/speech2text.ipynb#W2sZmlsZQ%3D%3D?line=3'>4</a>\u001b[0m duration \u001b[39m=\u001b[39m \u001b[39m1\u001b[39m  \u001b[39m# seconds\u001b[39;00m\n",
      "\u001b[0;31mModuleNotFoundError\u001b[0m: No module named 'sounddevice'"
     ]
    }
   ],
   "source": [
    "import sounddevice as sd\n",
    "import soundfile as sf\n",
    "\n",
    "duration = 1  # seconds\n",
    "filename = 'output.wav'\n",
    "samplerate = sd.query_devices('default')['default_samplerate']\n",
    "\n",
    "def callback(indata, frames, time, status):\n",
    "    if status:\n",
    "        print(status)\n",
    "    sf.write(filename, indata, samplerate)\n",
    "\n",
    "with sd.InputStream(callback=callback):\n",
    "    sd.sleep(int(duration * 1000))\n"
   ]
  }
 ],
 "metadata": {
  "kernelspec": {
   "display_name": "whisper",
   "language": "python",
   "name": "python3"
  },
  "language_info": {
   "codemirror_mode": {
    "name": "ipython",
    "version": 3
   },
   "file_extension": ".py",
   "mimetype": "text/x-python",
   "name": "python",
   "nbconvert_exporter": "python",
   "pygments_lexer": "ipython3",
   "version": "3.11.6"
  }
 },
 "nbformat": 4,
 "nbformat_minor": 2
}
