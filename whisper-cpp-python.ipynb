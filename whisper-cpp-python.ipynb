{
 "cells": [
  {
   "cell_type": "code",
   "execution_count": 1,
   "metadata": {},
   "outputs": [],
   "source": [
    "import whisper\n",
    "\n"
   ]
  },
  {
   "cell_type": "code",
   "execution_count": 2,
   "metadata": {},
   "outputs": [
    {
     "name": "stderr",
     "output_type": "stream",
     "text": [
      "/opt/homebrew/Caskroom/miniforge/base/envs/langchain/lib/python3.11/site-packages/whisper/transcribe.py:115: UserWarning: FP16 is not supported on CPU; using FP32 instead\n",
      "  warnings.warn(\"FP16 is not supported on CPU; using FP32 instead\")\n"
     ]
    },
    {
     "name": "stdout",
     "output_type": "stream",
     "text": [
      "老婆你要去哪裡吃?\n"
     ]
    }
   ],
   "source": [
    "model = whisper.load_model(\"base\")\n",
    "# audio = whisper.load_audio(\"datasets/scn.m4a\")\n",
    "result = model.transcribe(\"datasets/scn.m4a\")\n",
    "print(result[\"text\"])"
   ]
  },
  {
   "cell_type": "code",
   "execution_count": 3,
   "metadata": {},
   "outputs": [],
   "source": [
    "import pyaudio\n",
    "import wave\n",
    "import threading\n",
    "import keyboard\n",
    "import whisper\n",
    "# import pyautogui\n",
    "import argparse"
   ]
  },
  {
   "cell_type": "code",
   "execution_count": 7,
   "metadata": {},
   "outputs": [
    {
     "name": "stderr",
     "output_type": "stream",
     "text": [
      "usage: ipykernel_launcher.py [-h] [--hotkey HOTKEY] [--language LANGUAGE]\n",
      "ipykernel_launcher.py: error: unrecognized arguments: --ip=127.0.0.1 --stdin=9013 --control=9011 --hb=9010 --Session.signature_scheme=\"hmac-sha256\" --Session.key=b\"be1aaae4-c239-4d27-a0f0-f6a901d90e53\" --shell=9012 --transport=\"tcp\" --iopub=9014 --f=/Users/furyhawk/Library/Jupyter/runtime/kernel-v2-54443S2T20k7DA6b1.json\n"
     ]
    },
    {
     "ename": "SystemExit",
     "evalue": "2",
     "output_type": "error",
     "traceback": [
      "An exception has occurred, use %tb to see the full traceback.\n",
      "\u001b[0;31mSystemExit\u001b[0m\u001b[0;31m:\u001b[0m 2\n"
     ]
    },
    {
     "name": "stderr",
     "output_type": "stream",
     "text": [
      "/opt/homebrew/Caskroom/miniforge/base/envs/whisper/lib/python3.11/site-packages/IPython/core/interactiveshell.py:3556: UserWarning: To exit: use 'exit', 'quit', or Ctrl-D.\n",
      "  warn(\"To exit: use 'exit', 'quit', or Ctrl-D.\", stacklevel=1)\n"
     ]
    }
   ],
   "source": [
    "\n",
    "    \n",
    "class AudioRecorder:\n",
    "    def __init__(self, chunk=1024, sample_format=pyaudio.paInt16, channels=1, fs=44100, filename=\"output.wav\"):\n",
    "        self.chunk = chunk\n",
    "        self.sample_format = sample_format\n",
    "        self.channels = channels\n",
    "        self.fs = fs\n",
    "        self.filename = filename\n",
    "        self.frames = []\n",
    "        self.recording = False\n",
    "        self.model = whisper.load_model(\"base\")\n",
    "        self.language = \"English\"\n",
    "        self.p = pyaudio.PyAudio()\n",
    "\n",
    "    def toggle_recording(self):\n",
    "        self.recording = not self.recording\n",
    "        if self.recording:\n",
    "            print('Recording')\n",
    "            self.frames = []  # Clear previous recording frames\n",
    "            threading.Thread(target=self.record).start()\n",
    "        else:\n",
    "            print('Stopped recording')\n",
    "\n",
    "    def record(self):\n",
    "        stream = self.p.open(\n",
    "            format=self.sample_format,\n",
    "            channels=self.channels,\n",
    "            rate=self.fs,\n",
    "            frames_per_buffer=self.chunk,\n",
    "            input=True\n",
    "        )\n",
    "        while self.recording:\n",
    "            data = stream.read(self.chunk)\n",
    "            self.frames.append(data)\n",
    "        stream.stop_stream()\n",
    "        stream.close()\n",
    "        self.save_audio()\n",
    "\n",
    "    def transcribe_recording(self):\n",
    "        options = {\n",
    "        \"language\": self.language, \n",
    "        \"task\": \"transcribe\"\n",
    "        }\n",
    "        result = self.model.transcribe(self.filename, **options)\n",
    "        return result[\"text\"]\n",
    "\n",
    "    def save_audio(self):\n",
    "        with wave.open(self.filename, 'wb') as wf:\n",
    "            wf.setnchannels(self.channels)\n",
    "            wf.setsampwidth(self.p.get_sample_size(self.sample_format))\n",
    "            wf.setframerate(self.fs)\n",
    "            wf.writeframes(b''.join(self.frames))\n",
    "        \n",
    "        transcription = self.transcribe_recording()\n",
    "        print(f'Transcription: {transcription}')\n",
    "        print(transcription)\n",
    "\n",
    "    def set_hotkey(self, hotkey):\n",
    "        keyboard.add_hotkey(hotkey, self.toggle_recording, suppress=True)\n",
    "        keyboard.wait('esc')\n",
    "    \n",
    "    def set_language(self, language):\n",
    "        self.language = language\n",
    "        print(\"The language is currently set to: \", self.language)\n",
    "\n",
    "\n",
    "def main():\n",
    "    parser = argparse.ArgumentParser(description='Audio Recorder and Transcriber')\n",
    "    parser.add_argument('--hotkey', type=str, default='space', help='Hotkey to toggle recording')\n",
    "    parser.add_argument('--language', type=str, default='en', help='Language for transcription')\n",
    "    args = parser.parse_args()\n",
    "\n",
    "    recorder = AudioRecorder()\n",
    "    recorder.set_language(args.language)\n",
    "    # recorder.set_hotkey(args.hotkey)\n",
    "    recorder.toggle_recording()\n",
    "    recorder.toggle_recording()\n",
    "    \n",
    "\n",
    "\n",
    "if __name__ == \"__main__\":\n",
    "    main()"
   ]
  }
 ],
 "metadata": {
  "kernelspec": {
   "display_name": "whisper",
   "language": "python",
   "name": "python3"
  },
  "language_info": {
   "codemirror_mode": {
    "name": "ipython",
    "version": 3
   },
   "file_extension": ".py",
   "mimetype": "text/x-python",
   "name": "python",
   "nbconvert_exporter": "python",
   "pygments_lexer": "ipython3",
   "version": "3.11.6"
  }
 },
 "nbformat": 4,
 "nbformat_minor": 2
}
