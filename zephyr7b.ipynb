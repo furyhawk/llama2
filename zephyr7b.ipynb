{
 "cells": [
  {
   "cell_type": "code",
   "execution_count": 1,
   "metadata": {},
   "outputs": [
    {
     "name": "stderr",
     "output_type": "stream",
     "text": [
      "/opt/homebrew/Caskroom/miniforge/base/envs/langchain/lib/python3.11/site-packages/tqdm/auto.py:21: TqdmWarning: IProgress not found. Please update jupyter and ipywidgets. See https://ipywidgets.readthedocs.io/en/stable/user_install.html\n",
      "  from .autonotebook import tqdm as notebook_tqdm\n"
     ]
    }
   ],
   "source": [
    "from ctransformers import AutoModelForCausalLM, AutoConfig, Config\n",
    "\n",
    "\n",
    "from langchain.prompts import PromptTemplate\n",
    "from langchain.chains import LLMChain\n",
    "from langchain.llms import CTransformers\n",
    "from langchain.callbacks.manager import CallbackManager\n",
    "from langchain.callbacks.streaming_stdout import StreamingStdOutCallbackHandler"
   ]
  },
  {
   "cell_type": "code",
   "execution_count": 3,
   "metadata": {},
   "outputs": [
    {
     "name": "stderr",
     "output_type": "stream",
     "text": [
      "Fetching 1 files: 100%|██████████| 1/1 [00:00<00:00, 515.21it/s]\n"
     ]
    }
   ],
   "source": [
    "config = Config(temperature=0.8, max_new_tokens=4048, context_length=4048, repetition_penalty=1.1)\n",
    "autoconfig = AutoConfig(config=config)\n",
    "\n",
    "# Set gpu_layers to the number of layers to offload to GPU. Set to 0 if no GPU acceleration is available on your system.\n",
    "llm = AutoModelForCausalLM.from_pretrained(\n",
    "    \"TheBloke/zephyr-7B-beta-GGUF\",\n",
    "    model_file=\"zephyr-7b-beta.Q4_K_M.gguf\",\n",
    "    model_type=\"mistral\",\n",
    "    gpu_layers=50,\n",
    "    config=autoconfig,\n",
    ")\n",
    "# tokenizer = AutoTokenizer.from_pretrained(\"TheBloke/zephyr-7B-alpha-GGUF\")\n"
   ]
  },
  {
   "cell_type": "code",
   "execution_count": 4,
   "metadata": {},
   "outputs": [
    {
     "name": "stdout",
     "output_type": "stream",
     "text": [
      " be a game-changer for the real estate industry. Here's how it's changing things up and what you can expect in the future.\n",
      "\n",
      "AI has already been transforming industries such as healthcare, finance, and manufacturing. But did you know that it's also set to revolutionize the real estate sector? From streamlining property management processes to assisting in buyer/renter research and marketing properties for sale, here's how AI is changing things up in the world of real estate.\n",
      "\n",
      "1. Property Management: One of the most significant ways that AI is transforming the real estate industry is through property management. By using predictive analytics, AI can help property managers identify potential issues before they become problems, allowing them to address issues proactively rather than reactively. For example, AI-powered systems can monitor HVAC systems and alert maintenance teams when a problem arises, preventing costly repairs and downtime.\n",
      "\n",
      "2. Buyer/Renter Research: Another way that AI is changing the real estate industry is by assisting buyers and renters in their research. By analyzing data such as property listings, neighborhood trends, and economic indicators, AI-powered systems can help buyers and renters make informed decisions about where to live. For example, Zillow's \"Zestimate\" uses AI to estimate the value of a home based on comparable sales in the area, while Realcomp is helping renters navigate market uncertainty.\n",
      "\n",
      "3. Property Marketing: Finally, AI is changing the way that properties are marketed. By using machine learning algorithms, AI-powered systems can help real estate agents identify which properties are most likely to sell quickly and at a premium price. For example, Opendoor's Instant Offer program uses AI to offer homeowners cash for their homes in as little as 24 hours, making it an attractive option for homeowners looking for a fast and easy sale.\n",
      "\n",
      "In terms of the future of AI in real estate, there are several trends that we can expect to see. One trend is the increased use of virtual reality (VR) technology. By using VR headsets, buyers and renters will be able to walk through homes from the comfort of their own home. Another trend is the growth of blockchain technology in real estate transactions. By using blockchain-based smart contracts, real estate transactions can be streamlined and made more secure.\n",
      "\n",
      "In conclusion, AI is set to transform the real estate industry by improving property management processes, assisting buyers and renters in their research, and changing the way that properties are marketed. As we move into the future, we can expect to see even more innovative uses of AI in real estate, from virtual reality tours to blockchain-based smart contracts."
     ]
    }
   ],
   "source": [
    "for text in llm(\"AI is going to\", stream=True):\n",
    "    print(text, end=\"\", flush=True)"
   ]
  },
  {
   "cell_type": "code",
   "execution_count": 2,
   "metadata": {},
   "outputs": [],
   "source": [
    "# Callbacks support token-wise streaming\n",
    "callback_manager = CallbackManager([StreamingStdOutCallbackHandler()])"
   ]
  },
  {
   "cell_type": "code",
   "execution_count": 8,
   "metadata": {},
   "outputs": [
    {
     "name": "stderr",
     "output_type": "stream",
     "text": [
      "Fetching 1 files: 100%|██████████| 1/1 [00:00<00:00, 13357.66it/s]\n",
      "Fetching 1 files: 100%|██████████| 1/1 [00:00<00:00, 11491.24it/s]\n"
     ]
    }
   ],
   "source": [
    "config = {'max_new_tokens': 1024, 'repetition_penalty': 1.1}\n",
    "\n",
    "llm = CTransformers(\n",
    "    model=\"TheBloke/zephyr-7B-beta-GGUF\",\n",
    "    model_file=\"zephyr-7b-beta.Q4_K_M.gguf\",\n",
    "    model_type=\"mistral\",\n",
    "    gpu_layers=50,\n",
    "    callback_manager=callback_manager,\n",
    "    config=config,\n",
    ")\n"
   ]
  },
  {
   "cell_type": "code",
   "execution_count": 6,
   "metadata": {},
   "outputs": [],
   "source": [
    "template = \"\"\"Question: {question}\n",
    "\n",
    "Answer: Let's work this out in a step by step way to be sure we have the right answer.\"\"\"\n",
    "\n",
    "prompt = PromptTemplate(template=template, input_variables=[\"question\"])"
   ]
  },
  {
   "cell_type": "code",
   "execution_count": 9,
   "metadata": {},
   "outputs": [
    {
     "name": "stdout",
     "output_type": "stream",
     "text": [
      " First, let's figure out which year Justin Bieber was born. He was born on March 1, 1994.\n",
      "\n",
      "Now that we know when he was born, let's look at the Super Bowl winners from that year. The Dallas Cowboys won Super Bowl XXIX in the 1994 season. They beat the Buffalo Bills 52-17 in San Diego on January 30, 1994.\n",
      "\n",
      "So there you have it. The Dallas Cowboys were the NFL champions in the year Justin Bieber was born!"
     ]
    },
    {
     "data": {
      "text/plain": [
       "\" First, let's figure out which year Justin Bieber was born. He was born on March 1, 1994.\\n\\nNow that we know when he was born, let's look at the Super Bowl winners from that year. The Dallas Cowboys won Super Bowl XXIX in the 1994 season. They beat the Buffalo Bills 52-17 in San Diego on January 30, 1994.\\n\\nSo there you have it. The Dallas Cowboys were the NFL champions in the year Justin Bieber was born!\""
      ]
     },
     "execution_count": 9,
     "metadata": {},
     "output_type": "execute_result"
    }
   ],
   "source": [
    "llm_chain = LLMChain(prompt=prompt, llm=llm)\n",
    "\n",
    "question = \"What NFL team won the Super Bowl in the year Justin Bieber was born?\"\n",
    "llm_chain.run(question)"
   ]
  },
  {
   "cell_type": "code",
   "execution_count": 10,
   "metadata": {},
   "outputs": [
    {
     "name": "stdout",
     "output_type": "stream",
     "text": [
      "\n",
      "\n",
      "1. \"AI\" stands for Artificial Intelligence, which is an area of computer science that deals with creating machines that can perform tasks that would normally require human intelligence, such as recognizing patterns and learning from data.\n",
      "\n",
      "2. The question asks what AI is going to do. This implies that AI has the ability to act or make decisions in some way. However, without more context or specifics about the situation being referred to, it's difficult to provide a clear answer.\n",
      "\n",
      "3. In general, AI can be used for a variety of purposes, such as:\n",
      "\n",
      "- Automating tasks that are currently done by humans, which can lead to increased efficiency and cost savings. For example, self-driving cars use AI to navigate roads without the need for a human driver.\n",
      "\n",
      "- Providing personalized recommendations or suggestions based on previous actions, which can lead to increased user engagement or better business results. Recommender systems in e-commerce, music streaming, or news apps are all examples of this type of application.\n",
      "\n",
      "- Enabling machines to learn from data and improve their performance over time. This is often referred to as machine learning, and it's used in a wide range of applications, such as fraud detection, medical diagnosis, and financial analysis.\n",
      "\n",
      "In general, AI is not \"going to do\" one particular thing on its own - rather, it's a tool that can be applied to various tasks or situations, depending on the context. The specific benefits or challenges will depend on how it's used and what kind of data or resources are available."
     ]
    },
    {
     "data": {
      "text/plain": [
       "'\\n\\n1. \"AI\" stands for Artificial Intelligence, which is an area of computer science that deals with creating machines that can perform tasks that would normally require human intelligence, such as recognizing patterns and learning from data.\\n\\n2. The question asks what AI is going to do. This implies that AI has the ability to act or make decisions in some way. However, without more context or specifics about the situation being referred to, it\\'s difficult to provide a clear answer.\\n\\n3. In general, AI can be used for a variety of purposes, such as:\\n\\n- Automating tasks that are currently done by humans, which can lead to increased efficiency and cost savings. For example, self-driving cars use AI to navigate roads without the need for a human driver.\\n\\n- Providing personalized recommendations or suggestions based on previous actions, which can lead to increased user engagement or better business results. Recommender systems in e-commerce, music streaming, or news apps are all examples of this type of application.\\n\\n- Enabling machines to learn from data and improve their performance over time. This is often referred to as machine learning, and it\\'s used in a wide range of applications, such as fraud detection, medical diagnosis, and financial analysis.\\n\\nIn general, AI is not \"going to do\" one particular thing on its own - rather, it\\'s a tool that can be applied to various tasks or situations, depending on the context. The specific benefits or challenges will depend on how it\\'s used and what kind of data or resources are available.'"
      ]
     },
     "execution_count": 10,
     "metadata": {},
     "output_type": "execute_result"
    }
   ],
   "source": [
    "question = \"AI is going to\"\n",
    "llm_chain.run(question)"
   ]
  },
  {
   "cell_type": "code",
   "execution_count": null,
   "metadata": {},
   "outputs": [],
   "source": []
  }
 ],
 "metadata": {
  "kernelspec": {
   "display_name": "hug",
   "language": "python",
   "name": "python3"
  },
  "language_info": {
   "codemirror_mode": {
    "name": "ipython",
    "version": 3
   },
   "file_extension": ".py",
   "mimetype": "text/x-python",
   "name": "python",
   "nbconvert_exporter": "python",
   "pygments_lexer": "ipython3",
   "version": "3.11.6"
  }
 },
 "nbformat": 4,
 "nbformat_minor": 2
}
